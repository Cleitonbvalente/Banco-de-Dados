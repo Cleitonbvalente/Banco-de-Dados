{
  "nbformat": 4,
  "nbformat_minor": 0,
  "metadata": {
    "colab": {
      "provenance": [],
      "authorship_tag": "ABX9TyMNwBcPg9wC4rQ8YU40At5e",
      "include_colab_link": true
    },
    "kernelspec": {
      "name": "python3",
      "display_name": "Python 3"
    },
    "language_info": {
      "name": "python"
    }
  },
  "cells": [
    {
      "cell_type": "markdown",
      "metadata": {
        "id": "view-in-github",
        "colab_type": "text"
      },
      "source": [
        "<a href=\"https://colab.research.google.com/github/Cleitonbvalente/Banco-de-Dados/blob/main/4_Conceitos_iniciais_Parte_4.ipynb\" target=\"_parent\"><img src=\"https://colab.research.google.com/assets/colab-badge.svg\" alt=\"Open In Colab\"/></a>"
      ]
    },
    {
      "cell_type": "code",
      "execution_count": 9,
      "metadata": {
        "id": "LxFO41OSM6z5",
        "colab": {
          "base_uri": "https://localhost:8080/"
        },
        "outputId": "55180b35-1679-46d9-fe24-63f53d3c5184"
      },
      "outputs": [
        {
          "output_type": "stream",
          "name": "stdout",
          "text": [
            "Digite um número: 1\n",
            "Digite um número: 2\n",
            "A diferença de    1.00 e    2.00 é:   -1.00\n",
            "A multiplicação de    1.00 e    2.00 é:    2.00\n"
          ]
        }
      ],
      "source": [
        "#1) Faça um programa que receba dois números e imprima\n",
        "# Na tela a diferença e a multiplicação entre eles.\n",
        "\n",
        "x = float(input(\"Digite um número: \"))\n",
        "y = float(input(\"Digite um número: \"))\n",
        "Diferença = x-y\n",
        "Multiplicação = x*y\n",
        "print(\"A diferença de {:7.2f} e {:7.2f} é: {:7.2f}\".format(x, y, Diferença))\n",
        "print(\"A multiplicação de %7.2f e %7.2f é: %7.2f\"%(x, y, Multiplicação))\n"
      ]
    },
    {
      "cell_type": "code",
      "source": [
        "#2) Faça um programa que receba uma sequência caracteres\n",
        "# E imprima True caso seja uma sequência contendo apenas\n",
        "# Números, de outra maneira, imprima False.\n",
        "\n",
        "Caracteres = input(\"Digite apenas números: \")\n",
        "print(Caracteres.replace(' ','').isdigit())"
      ],
      "metadata": {
        "colab": {
          "base_uri": "https://localhost:8080/"
        },
        "id": "oWLAqNNsbv-C",
        "outputId": "038fac25-b6a6-4ce8-a9a0-75a5c3d88097"
      },
      "execution_count": 16,
      "outputs": [
        {
          "output_type": "stream",
          "name": "stdout",
          "text": [
            "Digite apenas números: 1 a 2 3 4 5\n",
            "False\n"
          ]
        }
      ]
    },
    {
      "cell_type": "code",
      "source": [
        "#O usos do IF-ELIF-ELSE\n",
        "num1=int(input())\n",
        "num2=int(input())\n",
        "\n",
        "if num1 > num2:\n",
        "  print('O número {} é maior que {}'.format(num1,num2))\n",
        "elif num1 == num2:\n",
        "  print('O número {} é igual a {}'.format(num1,num2))\n",
        "else:\n",
        "  print('O número {} é igual a {}'.format(num2,num1))"
      ],
      "metadata": {
        "colab": {
          "base_uri": "https://localhost:8080/"
        },
        "id": "L5ljUjKiedXa",
        "outputId": "943e600e-2a4c-4413-9804-a380fcee12a0"
      },
      "execution_count": 19,
      "outputs": [
        {
          "output_type": "stream",
          "name": "stdout",
          "text": [
            "1\n",
            "2\n",
            "O número 2 é igual a 1\n"
          ]
        }
      ]
    }
  ]
}